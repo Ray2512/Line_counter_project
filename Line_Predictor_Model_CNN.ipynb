{
 "cells": [
  {
   "cell_type": "markdown",
   "metadata": {},
   "source": [
    "# Importing Required Packages\n"
   ]
  },
  {
   "cell_type": "code",
   "execution_count": 1,
   "metadata": {},
   "outputs": [],
   "source": [
    "import numpy as np\n",
    "import cv2\n",
    "import os\n",
    "import random\n",
    "import matplotlib.pyplot as plt\n",
    "from matplotlib.image import imread\n",
    "from keras.models import Sequential\n",
    "from keras.layers import Conv2D, MaxPooling2D, Flatten, Dense\n",
    "from keras.regularizers import l2\n",
    "from sklearn.metrics import confusion_matrix\n",
    "import itertools\n",
    "import matplotlib.pyplot as plt\n",
    "import seaborn as sns\n",
    "%matplotlib inline"
   ]
  },
  {
   "cell_type": "markdown",
   "metadata": {},
   "source": [
    "# Specifying the directory of data\n"
   ]
  },
  {
   "cell_type": "code",
   "execution_count": 2,
   "metadata": {},
   "outputs": [],
   "source": [
    "TEST_DIR = 'Data/test_data'\n",
    "TRAIN_DIR = 'Data/train_data'"
   ]
  },
  {
   "cell_type": "markdown",
   "metadata": {},
   "source": [
    "# Creating 2 functions: a) One Hot Encode b) Reverse\n"
   ]
  },
  {
   "cell_type": "code",
   "execution_count": 3,
   "metadata": {},
   "outputs": [],
   "source": [
    "def ohc(arry):\n",
    "    if arry == 1:\n",
    "        return [1,0,0,0,0,0]\n",
    "    if arry == 2:\n",
    "        return [0,1,0,0,0,0]\n",
    "    if arry == 3:\n",
    "        return [0,0,1,0,0,0]\n",
    "    if arry == 4:\n",
    "        return [0,0,0,1,0,0]\n",
    "    if arry == 5:\n",
    "        return [0,0,0,0,1,0]\n",
    "    if arry == 6:\n",
    "        return [0,0,0,0,0,1]\n",
    "    \n",
    "\n",
    "def rev(arra):\n",
    "    if arra == [1., 0., 0., 0., 0., 0.]:\n",
    "        return 1\n",
    "    elif arra == [0., 1., 0., 0., 0., 0.]:\n",
    "        return 2\n",
    "    elif arra == [0., 0., 1., 0., 0., 0.]:\n",
    "        return 3\n",
    "    elif arra == [0. ,0. ,0., 1., 0., 0.]:\n",
    "        return 4\n",
    "    elif arra == [0. ,0., 0., 0., 1., 0.]:\n",
    "        return 5\n",
    "    elif arra == [0. ,0., 0., 0., 0., 1.]:\n",
    "        return 6"
   ]
  },
  {
   "cell_type": "markdown",
   "metadata": {},
   "source": [
    "# Creating 2 arrays"
   ]
  },
  {
   "cell_type": "code",
   "execution_count": 4,
   "metadata": {},
   "outputs": [],
   "source": [
    "train_y = np.zeros(10000)\n",
    "train_x = np.zeros(10000)\n",
    "train_y = train_y.tolist()\n",
    "train_x = train_x.tolist()\n",
    "for i,train_img_name in enumerate(os.listdir(TRAIN_DIR)):\n",
    "    \n",
    "    train_y[i] = ohc(int(train_img_name.split('.')[0].split('_')[-1]))\n",
    "    train_img_arr = cv2.imread(os.path.join(TRAIN_DIR,train_img_name))   \n",
    "    train_x[i] =  train_img_arr\n",
    "\n",
    "    \n",
    "test_y = np.zeros(200)\n",
    "test_x = np.zeros(200)\n",
    "test_y = test_y.tolist()\n",
    "test_x = test_x.tolist()\n",
    "for i,test_img_name in enumerate(os.listdir(TEST_DIR)):\n",
    "    \n",
    "    test_y[i] = int(test_img_name.split('.')[0].split('_')[-1])\n",
    "    test_img_arr = cv2.imread(os.path.join(TEST_DIR,test_img_name))   \n",
    "    test_x[i] =  test_img_arr\n",
    "\n",
    "    \n",
    "train_x = np.array(train_x)\n",
    "train_y = np.array(train_y)\n",
    "test_x = np.array(test_x)\n",
    "test_y = np.array(test_y)\n",
    "\n",
    "\n",
    "train_x = train_x.astype('float64')\n",
    "train_y = train_y.astype('float64')\n",
    "\n",
    "test_x = test_x.astype('float64')"
   ]
  },
  {
   "cell_type": "markdown",
   "metadata": {},
   "source": [
    "# Creating the model\n"
   ]
  },
  {
   "cell_type": "code",
   "execution_count": 5,
   "metadata": {},
   "outputs": [],
   "source": [
    "model = Sequential()\n",
    "\n",
    "model.add(Conv2D(64, (2,2), kernel_regularizer=l2(0.00001),strides=(1, 1),activation = 'relu'))\n",
    "model.add(MaxPooling2D((2,2)))\n",
    "\n",
    "model.add(Conv2D(64, (2,2),kernel_regularizer=l2(0.00001) ,strides=(1, 1),activation = 'relu'))\n",
    "model.add(MaxPooling2D((2,2)))\n",
    "\n",
    "model.add(Conv2D(64, (2,2), activation = 'relu'))\n",
    "model.add(Flatten())\n",
    "\n",
    "model.add(Dense(128, input_shape = train_x[0].shape, activation = 'relu'))\n",
    "\n",
    "model.add(Dense(6, activation = 'softmax'))"
   ]
  },
  {
   "cell_type": "code",
   "execution_count": 6,
   "metadata": {},
   "outputs": [],
   "source": [
    "model.compile(optimizer = 'adam', loss='categorical_crossentropy', metrics = ['accuracy'])"
   ]
  },
  {
   "cell_type": "code",
   "execution_count": 7,
   "metadata": {},
   "outputs": [
    {
     "name": "stdout",
     "output_type": "stream",
     "text": [
      "Epoch 1/5\n",
      "305/305 [==============================] - 19s 63ms/step - loss: 1.1979 - accuracy: 0.4482 - val_loss: 1.0050 - val_accuracy: 0.5280\n",
      "Epoch 2/5\n",
      "305/305 [==============================] - 19s 62ms/step - loss: 0.9223 - accuracy: 0.5753 - val_loss: 0.8399 - val_accuracy: 0.6240\n",
      "Epoch 3/5\n",
      "305/305 [==============================] - 19s 62ms/step - loss: 0.6209 - accuracy: 0.7313 - val_loss: 0.6181 - val_accuracy: 0.7360\n",
      "Epoch 4/5\n",
      "305/305 [==============================] - 20s 65ms/step - loss: 0.4219 - accuracy: 0.8261 - val_loss: 0.6372 - val_accuracy: 0.6960\n",
      "Epoch 5/5\n",
      "305/305 [==============================] - 20s 66ms/step - loss: 0.2718 - accuracy: 0.8941 - val_loss: 0.5919 - val_accuracy: 0.7600\n"
     ]
    }
   ],
   "source": [
    "history = model.fit((255-train_x)/255,train_y,batch_size = 32,epochs = 5,validation_split = 0.025)"
   ]
  },
  {
   "cell_type": "markdown",
   "metadata": {},
   "source": [
    "# Plotting graph to represent Training and Validation Data accuracy WRT epoch "
   ]
  },
  {
   "cell_type": "code",
   "execution_count": 9,
   "metadata": {},
   "outputs": [
    {
     "name": "stdout",
     "output_type": "stream",
     "text": [
      "dict_keys(['loss', 'accuracy', 'val_loss', 'val_accuracy'])\n"
     ]
    },
    {
     "data": {
      "image/png": "[encoded data removed]",
      "text/plain": [
       "<Figure size 432x288 with 1 Axes>"
      ]
     },
     "metadata": {
      "needs_background": "light"
     },
     "output_type": "display_data"
    },
    {
     "data": {
      "image/png": "[encoded data removed]",
      "text/plain": [
       "<Figure size 432x288 with 1 Axes>"
      ]
     },
     "metadata": {
      "needs_background": "light"
     },
     "output_type": "display_data"
    }
   ],
   "source": [
    "\n",
    "# list all data in history\n",
    "print(history.history.keys())\n",
    "# summarize history for accuracy\n",
    "plt.plot(history.history['accuracy'])\n",
    "plt.plot(history.history['val_accuracy'])\n",
    "plt.title('model accuracy')\n",
    "plt.ylabel('accuracy')\n",
    "plt.xlabel('epoch')\n",
    "plt.legend(['train', 'valid'], loc='upper left')\n",
    "plt.show()\n",
    "# summarize history for loss\n",
    "plt.plot(history.history['loss'])\n",
    "plt.plot(history.history['val_loss'])\n",
    "plt.title('model loss')\n",
    "plt.ylabel('loss')\n",
    "plt.xlabel('epoch')\n",
    "plt.legend(['train', 'valid'], loc='upper left')\n",
    "plt.show()"
   ]
  },
  {
   "cell_type": "code",
   "execution_count": 10,
   "metadata": {},
   "outputs": [],
   "source": [
    "test_predictions = model.predict((255-test_x.reshape(200,64,64,3))/255)\n",
    "test_predictions = np.argmax(test_predictions,axis = 1)+1"
   ]
  },
  {
   "cell_type": "markdown",
   "metadata": {},
   "source": [
    "# Creating a function to plot a Confusion Matrix\n"
   ]
  },
  {
   "cell_type": "code",
   "execution_count": 12,
   "metadata": {},
   "outputs": [],
   "source": [
    "def plot_confusion_matrix(cm, classes,\n",
    "                          normalize=False,\n",
    "                          title='Confusion matrix',\n",
    "                          cmap=plt.cm.Blues):\n",
    "    \"\"\"\n",
    "    This function prints and plots the confusion matrix.\n",
    "    Normalization can be applied by setting `normalize=True`.\n",
    "    \"\"\"\n",
    "    plt.imshow(cm, interpolation='nearest', cmap=cmap)\n",
    "    plt.title(title)\n",
    "    plt.colorbar()\n",
    "    tick_marks = np.arange(len(classes))\n",
    "    plt.xticks(tick_marks, classes, rotation=45)\n",
    "    plt.yticks(tick_marks, classes)\n",
    "\n",
    "    if normalize:\n",
    "        cm = cm.astype('float') / cm.sum(axis=1)[:, np.newaxis]\n",
    "        print(\"Normalized confusion matrix\")\n",
    "    else:\n",
    "        print('Confusion matrix, without normalization')\n",
    "\n",
    "    print(cm)\n",
    "\n",
    "    thresh = cm.max() / 2.\n",
    "    for i, j in itertools.product(range(cm.shape[0]), range(cm.shape[1])):\n",
    "        plt.text(j, i, cm[i, j],\n",
    "                 horizontalalignment=\"center\",\n",
    "                 color=\"white\" if cm[i, j] > thresh else \"black\")\n",
    "\n",
    "    plt.tight_layout()\n",
    "    plt.ylabel('True label')\n",
    "    plt.xlabel('Predicted label')\n",
    "\n"
   ]
  },
  {
   "cell_type": "code",
   "execution_count": 13,
   "metadata": {},
   "outputs": [],
   "source": [
    "cm = confusion_matrix(y_true = test_y, y_pred = test_predictions)"
   ]
  },
  {
   "cell_type": "markdown",
   "metadata": {},
   "source": [
    "# Plotting Confusion Matrix \n"
   ]
  },
  {
   "cell_type": "code",
   "execution_count": 14,
   "metadata": {},
   "outputs": [
    {
     "name": "stdout",
     "output_type": "stream",
     "text": [
      "Confusion matrix, without normalization\n",
      "[[29  0  0  0  0  0]\n",
      " [ 0 28  1  0  0  0]\n",
      " [ 0  4 26  3  0  0]\n",
      " [ 0  0  6 20  8  1]\n",
      " [ 0  0  1  3 21 14]\n",
      " [ 0  0  0  4  4 27]]\n"
     ]
    },
    {
     "data": {
      "image/png": "[encoded data removed]",
      "text/plain": [
       "<Figure size 432x288 with 2 Axes>"
      ]
     },
     "metadata": {
      "needs_background": "light"
     },
     "output_type": "display_data"
    }
   ],
   "source": [
    "cm_plot_labels = ['1','2','3','4','5','6']\n",
    "plot_confusion_matrix(cm=cm, classes = cm_plot_labels, title = 'Confusion Matrix')"
   ]
  },
  {
   "cell_type": "code",
   "execution_count": null,
   "metadata": {},
   "outputs": [],
   "source": []
  }
 ],
 "metadata": {
  "kernelspec": {
   "display_name": "Python 3",
   "language": "python",
   "name": "python3"
  },
  "language_info": {
   "codemirror_mode": {
    "name": "ipython",
    "version": 3
   },
   "file_extension": ".py",
   "mimetype": "text/x-python",
   "name": "python",
   "nbconvert_exporter": "python",
   "pygments_lexer": "ipython3",
   "version": "3.8.4rc1"
  }
 },
 "nbformat": 4,
 "nbformat_minor": 4
}
