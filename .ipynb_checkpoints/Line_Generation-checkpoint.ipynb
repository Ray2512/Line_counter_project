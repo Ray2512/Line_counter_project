{
 "cells": [
  {
   "cell_type": "code",
   "execution_count": 5,
   "metadata": {},
   "outputs": [],
   "source": [
    "from PIL import Image, ImageDraw\n",
    "import os\n",
    "import random\n",
    "import cv2\n",
    "import numpy\n",
    "import glob\n",
    "\n",
    "class GenerateLines:\n",
    "    def __init__(self, image_height=16, image_width=16):\n",
    "        self.height = image_height\n",
    "        self.width = image_width\n",
    "        print(\"New GenerateLines object initialized\")\n",
    "\n",
    "    def generate(self, number_of_images=100, max_lines=3, min_lines=1, relative_path=\"data\"):\n",
    "        # define the name of the directory to be create\n",
    "\n",
    "        try:\n",
    "            os.mkdir(relative_path)\n",
    "        except OSError:\n",
    "            print (\"Creation of the directory %s failed\" % relative_path)\n",
    "        else:\n",
    "            print (\"Successfully created the directory %s \" % relative_path)\n",
    "        canvas = (self.height, self.width)\n",
    "        count = []\n",
    "        for imageIndex in range(number_of_images):\n",
    "            number_of_lines = random.randint(min_lines,max_lines)\n",
    "\n",
    "            im = Image.new(mode=\"RGB\",size=canvas, color=(255,255,255,0))\n",
    "            draw = ImageDraw.Draw(im)\n",
    "\n",
    "            # draw lines\n",
    "            for lineNumber in range(number_of_lines):\n",
    "                x1, y1 = random.random()*self.height, random.random()*self.width\n",
    "                x2, y2 = random.random()*self.height, random.random()*self.width\n",
    "            #    print((x1,y1, x2,y2))\n",
    "                \n",
    "                draw.line((x1,y1, x2,y2), fill=(4, 47, 102))\n",
    "                \n",
    "\n",
    "            # save image\n",
    "            count.append(number_of_lines)\n",
    "            im.save('%s/im_%d_%d.png' % (relative_path, imageIndex, number_of_lines))\n",
    "            \n",
    "            im.close()\n",
    "\n"
   ]
  },
  {
   "cell_type": "code",
   "execution_count": 6,
   "metadata": {},
   "outputs": [
    {
     "name": "stdout",
     "output_type": "stream",
     "text": [
      "New GenerateLines object initialized\n",
      "Successfully created the directory Data/train_data \n",
      "Successfully created the directory Data/test_data \n",
      "Successfully created the directory Data/valid_data \n"
     ]
    }
   ],
   "source": [
    "\n",
    "lineGenerator = GenerateLines(image_height=128, image_width=128)\n",
    "\n",
    "lineGenerator.generate(number_of_images=500, max_lines=6, min_lines=1, relative_path=\"Data/train_data\")\n",
    "lineGenerator.generate(number_of_images=100, max_lines=6, min_lines=1, relative_path=\"Data/test_data\")\n",
    "lineGenerator.generate(number_of_images=100, max_lines=6, min_lines=1, relative_path=\"Data/valid_data\")\n",
    "\n",
    "\n",
    "# dir = \"data\" # current directory\n",
    "# ext = \".png\" # whatever extension you want\n",
    "\n",
    "# pathname = os.path.join(dir, \"*\" + ext)\n",
    "# images = [cv2.imread(img) for img in glob.glob(pathname)]\n",
    "\n",
    "# new_im = Image.new('RGB', (3000,3000))\n",
    "\n",
    "# index = 0\n",
    "# for i in range(0,3000,300):\n",
    "#     for j in range(0,3000,300):\n",
    "#         im = Image.fromarray(images[index])\n",
    "#         im.thumbnail((300,300))\n",
    "#         new_im.paste(im, (i,j))\n",
    "#         index += 1\n",
    "\n",
    "# new_im.save(\"hola.png\")"
   ]
  },
  {
   "cell_type": "code",
   "execution_count": null,
   "metadata": {},
   "outputs": [],
   "source": []
  }
 ],
 "metadata": {
  "kernelspec": {
   "display_name": "Python 3",
   "language": "python",
   "name": "python3"
  },
  "language_info": {
   "codemirror_mode": {
    "name": "ipython",
    "version": 3
   },
   "file_extension": ".py",
   "mimetype": "text/x-python",
   "name": "python",
   "nbconvert_exporter": "python",
   "pygments_lexer": "ipython3",
   "version": "3.8.4rc1"
  }
 },
 "nbformat": 4,
 "nbformat_minor": 4
}
